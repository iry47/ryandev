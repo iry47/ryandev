{
 "cells": [
  {
   "cell_type": "code",
   "execution_count": 1,
   "id": "7d8d5863",
   "metadata": {},
   "outputs": [],
   "source": [
    "import pandas as pd\n",
    "import json\n",
    "import os"
   ]
  },
  {
   "cell_type": "code",
   "execution_count": 97,
   "id": "409f0584",
   "metadata": {},
   "outputs": [],
   "source": [
    "places_path = './src/savedPlaces.json'"
   ]
  },
  {
   "cell_type": "markdown",
   "id": "fb1aa645",
   "metadata": {},
   "source": [
    "### Google maps scraper\n",
    "Source: # https://scrapfly.io/blog/how-to-scrape-google-maps/"
   ]
  },
  {
   "cell_type": "code",
   "execution_count": 4,
   "id": "f8abb64b",
   "metadata": {},
   "outputs": [],
   "source": [
    "from parsel import Selector\n",
    "from playwright.async_api import async_playwright\n",
    "from playwright_stealth import stealth_async\n",
    "\n",
    "script = \"\"\"\n",
    "function waitCss(selector, n=1, require=false, timeout=5000) {\n",
    "  console.log(selector, n, require, timeout);\n",
    "  var start = Date.now();\n",
    "  while (Date.now() - start < timeout){\n",
    "  \tif (document.querySelectorAll(selector).length >= n){\n",
    "      return document.querySelectorAll(selector);\n",
    "    }\n",
    "  }\n",
    "  if (require){\n",
    "      throw new Error(`selector \"${selector}\" timed out in ${Date.now() - start} ms`);\n",
    "  } else {\n",
    "      return document.querySelectorAll(selector);\n",
    "  }\n",
    "}\n",
    "\n",
    "var results = waitCss(\"div[role*=article]>a\", n=10, require=false);\n",
    "return Array.from(results).map((el) => el.getAttribute(\"href\"))\n",
    "\"\"\"\n",
    "\n",
    "\n",
    "async def search(query, page):\n",
    "    url = f\"https://www.google.com/maps/search/{query.replace(' ', '+')}/?hl=en\"\n",
    "    await page.goto(url)\n",
    "    urls = await page.evaluate(\"() => {\" + script + \"}\")\n",
    "    return urls or [url]\n",
    "\n",
    "def parse_place(selector):\n",
    "    \"\"\"parse Google Maps place\"\"\"\n",
    "\n",
    "    def aria_with_label(label):\n",
    "        \"\"\"gets aria element as is\"\"\"\n",
    "        return selector.css(f\"*[aria-label*='{label}']::attr(aria-label)\")\n",
    "\n",
    "    def aria_no_label(label):\n",
    "        \"\"\"gets aria element as text with label stripped off\"\"\"\n",
    "        text = aria_with_label(label).get(\"\")\n",
    "        return text.split(label, 1)[1].strip()\n",
    "\n",
    "    result = {\n",
    "        \"category\": selector.css(\"button[jsaction='pane.rating.category']::text\").get(),\n",
    "        # most of the data can be extracted through accessibility labels:\n",
    "        \"website\": aria_no_label(\"Website: \"),\n",
    "        \"phone\": aria_no_label(\"Phone: \"),\n",
    "        \"review_count\": aria_with_label(\" reviews\").get(),\n",
    "        # to extract star numbers from text we can use regex pattern for numbers: \"\\d+\"\n",
    "        \"stars\": aria_with_label(\" stars\").re(\"\\d+.*\\d+\")[0],\n",
    "        \"5_stars\": aria_with_label(\"5 stars\").re(r\"(\\d+) review\")[0],\n",
    "        \"4_stars\": aria_with_label(\"4 stars\").re(r\"(\\d+) review\")[0],\n",
    "        \"3_stars\": aria_with_label(\"3 stars\").re(r\"(\\d+) review\")[0],\n",
    "        \"2_stars\": aria_with_label(\"2 stars\").re(r\"(\\d+) review\")[0],\n",
    "        \"1_stars\": aria_with_label(\"1 stars\").re(r\"(\\d+) review\")[0],\n",
    "    }\n",
    "    return result\n",
    "\n",
    "places = []\n",
    "index_error = []\n",
    "type_error = []\n",
    "other_error = []\n",
    "async with async_playwright() as p:\n",
    "    browser = await p.chromium.launch(headless=False)\n",
    "    page = await browser.new_page()\n",
    "    for marker in markers['features']:\n",
    "        try:\n",
    "            urls = await search(marker['properties']['Title'] +' '+ marker['properties']['Location']['Address'], page=page)\n",
    "            await stealth_async(page)\n",
    "            await page.goto(urls[0])\n",
    "            await page.wait_for_selector(\"button[jsaction='pane.rating.category']\")\n",
    "            content = await page.content()\n",
    "            parsed_info = parse_place(Selector(text=content.encode('utf-8', 'ignore').decode()))\n",
    "\n",
    "            place = {\n",
    "                \"name\": marker['properties']['Title'],\n",
    "                \"category\": parsed_info['category'],\n",
    "                \"google_link\": marker['properties']['Google Maps URL'],\n",
    "                \"phone\": parsed_info['phone'],\n",
    "                \"website\": parsed_info['website']\n",
    "\n",
    "            }\n",
    "            places.append(place)\n",
    "    \n",
    "        except IndexError:\n",
    "            index_error.append(marker['properties']['Title'])\n",
    "            continue\n",
    "        except TypeError:\n",
    "            type_error.append(marker['properties']['Title'])\n",
    "            continue\n",
    "        except:\n",
    "            other_error.append(marker['properties']['Title'])\n",
    "            continue\n",
    "            \n"
   ]
  },
  {
   "cell_type": "code",
   "execution_count": 98,
   "id": "b22f8203",
   "metadata": {},
   "outputs": [],
   "source": [
    "# df_places = pd.DataFrame.from_records(places)\n",
    "df_places = pd.read_json('./')"
   ]
  },
  {
   "cell_type": "code",
   "execution_count": 94,
   "id": "c428a2f1",
   "metadata": {},
   "outputs": [
    {
     "name": "stdout",
     "output_type": "stream",
     "text": [
      "Total markers from google 741\n"
     ]
    }
   ],
   "source": [
    "print(f\"Total markers from google {len(markers['features'])}\")"
   ]
  },
  {
   "cell_type": "code",
   "execution_count": 92,
   "id": "3254e24e",
   "metadata": {},
   "outputs": [
    {
     "name": "stdout",
     "output_type": "stream",
     "text": [
      "Index Errors:153 Type Errors:74 Other Errors:295\n"
     ]
    }
   ],
   "source": [
    "print(f\"Index Errors:{len(index_error)} Type Errors:{len(type_error)} Other Errors:{len(other_error)}\")"
   ]
  },
  {
   "cell_type": "markdown",
   "id": "4aee660d",
   "metadata": {},
   "source": [
    "## Data Engineering\n",
    "The following will set up the data to be used by the frontend"
   ]
  },
  {
   "cell_type": "code",
   "execution_count": 84,
   "id": "a34dde0d",
   "metadata": {},
   "outputs": [],
   "source": [
    "food_category = ['restaurant', 'cafe', 'bistro']\n",
    "hostel_category = ['hostel', 'hotel', 'bed']\n",
    "tourism_category = ['tourism', 'museum']\n",
    "outdoors = ['park', 'lake', 'river', 'waterfall', 'activity']\n",
    "other_category = []\n",
    "# TODO: re-scrap data and compare category guesses with list of unique categories from google\n",
    "\n",
    "places = open(places_path)\n",
    "df_places = pd.DataFrame.from_records(places) \n",
    "# df_places.to_json('parsed_places.json') # will overwrite file"
   ]
  },
  {
   "cell_type": "code",
   "execution_count": 95,
   "id": "a73ee399",
   "metadata": {},
   "outputs": [
    {
     "ename": "AttributeError",
     "evalue": "'DataFrame' object has no attribute 'category'",
     "output_type": "error",
     "traceback": [
      "\u001b[0;31m---------------------------------------------------------------------------\u001b[0m",
      "\u001b[0;31mAttributeError\u001b[0m                            Traceback (most recent call last)",
      "Input \u001b[0;32mIn [95]\u001b[0m, in \u001b[0;36m<cell line: 1>\u001b[0;34m()\u001b[0m\n\u001b[0;32m----> 1\u001b[0m \u001b[38;5;28mprint\u001b[39m(\u001b[38;5;124mf\u001b[39m\u001b[38;5;124m\"\u001b[39m\u001b[38;5;124mUnique categories from google \u001b[39m\u001b[38;5;132;01m{\u001b[39;00m\u001b[38;5;28mlen\u001b[39m(df_places\u001b[38;5;241m.\u001b[39mcategory\u001b[38;5;241m.\u001b[39munique())\u001b[38;5;132;01m}\u001b[39;00m\u001b[38;5;124m\"\u001b[39m)\n",
      "File \u001b[0;32m~/.local/lib/python3.9/site-packages/pandas/core/generic.py:5583\u001b[0m, in \u001b[0;36mNDFrame.__getattr__\u001b[0;34m(self, name)\u001b[0m\n\u001b[1;32m   5576\u001b[0m \u001b[38;5;28;01mif\u001b[39;00m (\n\u001b[1;32m   5577\u001b[0m     name \u001b[38;5;129;01mnot\u001b[39;00m \u001b[38;5;129;01min\u001b[39;00m \u001b[38;5;28mself\u001b[39m\u001b[38;5;241m.\u001b[39m_internal_names_set\n\u001b[1;32m   5578\u001b[0m     \u001b[38;5;129;01mand\u001b[39;00m name \u001b[38;5;129;01mnot\u001b[39;00m \u001b[38;5;129;01min\u001b[39;00m \u001b[38;5;28mself\u001b[39m\u001b[38;5;241m.\u001b[39m_metadata\n\u001b[1;32m   5579\u001b[0m     \u001b[38;5;129;01mand\u001b[39;00m name \u001b[38;5;129;01mnot\u001b[39;00m \u001b[38;5;129;01min\u001b[39;00m \u001b[38;5;28mself\u001b[39m\u001b[38;5;241m.\u001b[39m_accessors\n\u001b[1;32m   5580\u001b[0m     \u001b[38;5;129;01mand\u001b[39;00m \u001b[38;5;28mself\u001b[39m\u001b[38;5;241m.\u001b[39m_info_axis\u001b[38;5;241m.\u001b[39m_can_hold_identifiers_and_holds_name(name)\n\u001b[1;32m   5581\u001b[0m ):\n\u001b[1;32m   5582\u001b[0m     \u001b[38;5;28;01mreturn\u001b[39;00m \u001b[38;5;28mself\u001b[39m[name]\n\u001b[0;32m-> 5583\u001b[0m \u001b[38;5;28;01mreturn\u001b[39;00m \u001b[38;5;28;43mobject\u001b[39;49m\u001b[38;5;241;43m.\u001b[39;49m\u001b[38;5;21;43m__getattribute__\u001b[39;49m\u001b[43m(\u001b[49m\u001b[38;5;28;43mself\u001b[39;49m\u001b[43m,\u001b[49m\u001b[43m \u001b[49m\u001b[43mname\u001b[49m\u001b[43m)\u001b[49m\n",
      "\u001b[0;31mAttributeError\u001b[0m: 'DataFrame' object has no attribute 'category'"
     ]
    }
   ],
   "source": [
    "print(f\"Unique categories from google {len(df_places.category.unique())}\")"
   ]
  },
  {
   "cell_type": "code",
   "execution_count": null,
   "id": "fadacaf9",
   "metadata": {},
   "outputs": [],
   "source": [
    "'''\n",
    "Iter through rows of places and add marker icon to place\n",
    "'''\n",
    "for place in df_places.items:\n",
    "    if any(cat in place.category for cat in food_category):\n",
    "        print(place)\n",
    "        df['name' == place.name]['marker'] = 'food'\n",
    "        print(place.marker)\n",
    "    else if any(cat in place.category for cat in hostel_category):\n",
    "        df['name' == place.name]['marker'] = 'hostel'\n",
    "    else if any(cat in place.category for cat in tourism_category):\n",
    "        df['name' == place.name]['marker'] = 'tourism'\n",
    "    else if any(cat in place.category for cat in outdoors_category):\n",
    "        df['name' == place.name]['marker'] = 'outdoors'\n",
    "\n",
    "    else:\n",
    "        df['name' == place.name]['marker'] = 'other'"
   ]
  },
  {
   "cell_type": "markdown",
   "id": "22a04816",
   "metadata": {},
   "source": [
    "## Data API Merge\n",
    "Add the webscraped data to the json file used by ryandev"
   ]
  },
  {
   "cell_type": "code",
   "execution_count": 74,
   "id": "e59ce675",
   "metadata": {},
   "outputs": [],
   "source": [
    "def add_to_website_json(dataframe, json_file_path):\n",
    "    categories_added = 0\n",
    "    categories_ctn = 0\n",
    "    with open(json_file_path, 'r') as file:\n",
    "        places = json.load(file)\n",
    "        for place in places['features']:\n",
    "            if 'category' not in place:\n",
    "                if place['properties']['Title'] in dataframe['name'].values:\n",
    "                    place['properties']['category'] = dataframe[dataframe['name'] == place['properties']['Title']].category.values[0]\n",
    "                    categories_added = categories_added + 1 \n",
    "                    categories_ctn = categories_ctn + 1\n",
    "            else:\n",
    "                categories_ctn = categories_ctn + 1\n",
    "    with open(json_file_path, 'w') as file:\n",
    "#         json.dump(places, file) # will overwrite page\n",
    "    \n",
    "    return f\"Categories added: {categories_added} Total Categories: {categories_ctn}\"\n"
   ]
  },
  {
   "cell_type": "code",
   "execution_count": 96,
   "id": "feda6aa4",
   "metadata": {},
   "outputs": [
    {
     "ename": "KeyError",
     "evalue": "'name'",
     "output_type": "error",
     "traceback": [
      "\u001b[0;31m---------------------------------------------------------------------------\u001b[0m",
      "\u001b[0;31mKeyError\u001b[0m                                  Traceback (most recent call last)",
      "File \u001b[0;32m~/.local/lib/python3.9/site-packages/pandas/core/indexes/base.py:3621\u001b[0m, in \u001b[0;36mIndex.get_loc\u001b[0;34m(self, key, method, tolerance)\u001b[0m\n\u001b[1;32m   3620\u001b[0m \u001b[38;5;28;01mtry\u001b[39;00m:\n\u001b[0;32m-> 3621\u001b[0m     \u001b[38;5;28;01mreturn\u001b[39;00m \u001b[38;5;28;43mself\u001b[39;49m\u001b[38;5;241;43m.\u001b[39;49m\u001b[43m_engine\u001b[49m\u001b[38;5;241;43m.\u001b[39;49m\u001b[43mget_loc\u001b[49m\u001b[43m(\u001b[49m\u001b[43mcasted_key\u001b[49m\u001b[43m)\u001b[49m\n\u001b[1;32m   3622\u001b[0m \u001b[38;5;28;01mexcept\u001b[39;00m \u001b[38;5;167;01mKeyError\u001b[39;00m \u001b[38;5;28;01mas\u001b[39;00m err:\n",
      "File \u001b[0;32m~/.local/lib/python3.9/site-packages/pandas/_libs/index.pyx:136\u001b[0m, in \u001b[0;36mpandas._libs.index.IndexEngine.get_loc\u001b[0;34m()\u001b[0m\n",
      "File \u001b[0;32m~/.local/lib/python3.9/site-packages/pandas/_libs/index.pyx:163\u001b[0m, in \u001b[0;36mpandas._libs.index.IndexEngine.get_loc\u001b[0;34m()\u001b[0m\n",
      "File \u001b[0;32mpandas/_libs/hashtable_class_helper.pxi:5198\u001b[0m, in \u001b[0;36mpandas._libs.hashtable.PyObjectHashTable.get_item\u001b[0;34m()\u001b[0m\n",
      "File \u001b[0;32mpandas/_libs/hashtable_class_helper.pxi:5206\u001b[0m, in \u001b[0;36mpandas._libs.hashtable.PyObjectHashTable.get_item\u001b[0;34m()\u001b[0m\n",
      "\u001b[0;31mKeyError\u001b[0m: 'name'",
      "\nThe above exception was the direct cause of the following exception:\n",
      "\u001b[0;31mKeyError\u001b[0m                                  Traceback (most recent call last)",
      "Input \u001b[0;32mIn [96]\u001b[0m, in \u001b[0;36m<cell line: 3>\u001b[0;34m()\u001b[0m\n\u001b[1;32m      1\u001b[0m df_places \u001b[38;5;241m=\u001b[39m pd\u001b[38;5;241m.\u001b[39mDataFrame\u001b[38;5;241m.\u001b[39mfrom_records(places)\n\u001b[1;32m      2\u001b[0m df_places\u001b[38;5;241m.\u001b[39mto_json(\u001b[38;5;124m'\u001b[39m\u001b[38;5;124mparsed_places.json\u001b[39m\u001b[38;5;124m'\u001b[39m)\n\u001b[0;32m----> 3\u001b[0m \u001b[43madd_to_website_json\u001b[49m\u001b[43m(\u001b[49m\u001b[43mdf_places\u001b[49m\u001b[43m,\u001b[49m\u001b[43m \u001b[49m\u001b[38;5;124;43m'\u001b[39;49m\u001b[38;5;124;43m./savedPlaces.json\u001b[39;49m\u001b[38;5;124;43m'\u001b[39;49m\u001b[43m)\u001b[49m\n",
      "Input \u001b[0;32mIn [74]\u001b[0m, in \u001b[0;36madd_to_website_json\u001b[0;34m(dataframe, json_file_path)\u001b[0m\n\u001b[1;32m      6\u001b[0m \u001b[38;5;28;01mfor\u001b[39;00m place \u001b[38;5;129;01min\u001b[39;00m places[\u001b[38;5;124m'\u001b[39m\u001b[38;5;124mfeatures\u001b[39m\u001b[38;5;124m'\u001b[39m]:\n\u001b[1;32m      7\u001b[0m     \u001b[38;5;28;01mif\u001b[39;00m \u001b[38;5;124m'\u001b[39m\u001b[38;5;124mcategory\u001b[39m\u001b[38;5;124m'\u001b[39m \u001b[38;5;129;01mnot\u001b[39;00m \u001b[38;5;129;01min\u001b[39;00m place:\n\u001b[0;32m----> 8\u001b[0m         \u001b[38;5;28;01mif\u001b[39;00m place[\u001b[38;5;124m'\u001b[39m\u001b[38;5;124mproperties\u001b[39m\u001b[38;5;124m'\u001b[39m][\u001b[38;5;124m'\u001b[39m\u001b[38;5;124mTitle\u001b[39m\u001b[38;5;124m'\u001b[39m] \u001b[38;5;129;01min\u001b[39;00m \u001b[43mdataframe\u001b[49m\u001b[43m[\u001b[49m\u001b[38;5;124;43m'\u001b[39;49m\u001b[38;5;124;43mname\u001b[39;49m\u001b[38;5;124;43m'\u001b[39;49m\u001b[43m]\u001b[49m\u001b[38;5;241m.\u001b[39mvalues:\n\u001b[1;32m      9\u001b[0m             place[\u001b[38;5;124m'\u001b[39m\u001b[38;5;124mproperties\u001b[39m\u001b[38;5;124m'\u001b[39m][\u001b[38;5;124m'\u001b[39m\u001b[38;5;124mcategory\u001b[39m\u001b[38;5;124m'\u001b[39m] \u001b[38;5;241m=\u001b[39m dataframe[dataframe[\u001b[38;5;124m'\u001b[39m\u001b[38;5;124mname\u001b[39m\u001b[38;5;124m'\u001b[39m] \u001b[38;5;241m==\u001b[39m place[\u001b[38;5;124m'\u001b[39m\u001b[38;5;124mproperties\u001b[39m\u001b[38;5;124m'\u001b[39m][\u001b[38;5;124m'\u001b[39m\u001b[38;5;124mTitle\u001b[39m\u001b[38;5;124m'\u001b[39m]]\u001b[38;5;241m.\u001b[39mcategory\u001b[38;5;241m.\u001b[39mvalues[\u001b[38;5;241m0\u001b[39m]\n\u001b[1;32m     10\u001b[0m             categories_added \u001b[38;5;241m=\u001b[39m categories_added \u001b[38;5;241m+\u001b[39m \u001b[38;5;241m1\u001b[39m \n",
      "File \u001b[0;32m~/.local/lib/python3.9/site-packages/pandas/core/frame.py:3505\u001b[0m, in \u001b[0;36mDataFrame.__getitem__\u001b[0;34m(self, key)\u001b[0m\n\u001b[1;32m   3503\u001b[0m \u001b[38;5;28;01mif\u001b[39;00m \u001b[38;5;28mself\u001b[39m\u001b[38;5;241m.\u001b[39mcolumns\u001b[38;5;241m.\u001b[39mnlevels \u001b[38;5;241m>\u001b[39m \u001b[38;5;241m1\u001b[39m:\n\u001b[1;32m   3504\u001b[0m     \u001b[38;5;28;01mreturn\u001b[39;00m \u001b[38;5;28mself\u001b[39m\u001b[38;5;241m.\u001b[39m_getitem_multilevel(key)\n\u001b[0;32m-> 3505\u001b[0m indexer \u001b[38;5;241m=\u001b[39m \u001b[38;5;28;43mself\u001b[39;49m\u001b[38;5;241;43m.\u001b[39;49m\u001b[43mcolumns\u001b[49m\u001b[38;5;241;43m.\u001b[39;49m\u001b[43mget_loc\u001b[49m\u001b[43m(\u001b[49m\u001b[43mkey\u001b[49m\u001b[43m)\u001b[49m\n\u001b[1;32m   3506\u001b[0m \u001b[38;5;28;01mif\u001b[39;00m is_integer(indexer):\n\u001b[1;32m   3507\u001b[0m     indexer \u001b[38;5;241m=\u001b[39m [indexer]\n",
      "File \u001b[0;32m~/.local/lib/python3.9/site-packages/pandas/core/indexes/base.py:3623\u001b[0m, in \u001b[0;36mIndex.get_loc\u001b[0;34m(self, key, method, tolerance)\u001b[0m\n\u001b[1;32m   3621\u001b[0m     \u001b[38;5;28;01mreturn\u001b[39;00m \u001b[38;5;28mself\u001b[39m\u001b[38;5;241m.\u001b[39m_engine\u001b[38;5;241m.\u001b[39mget_loc(casted_key)\n\u001b[1;32m   3622\u001b[0m \u001b[38;5;28;01mexcept\u001b[39;00m \u001b[38;5;167;01mKeyError\u001b[39;00m \u001b[38;5;28;01mas\u001b[39;00m err:\n\u001b[0;32m-> 3623\u001b[0m     \u001b[38;5;28;01mraise\u001b[39;00m \u001b[38;5;167;01mKeyError\u001b[39;00m(key) \u001b[38;5;28;01mfrom\u001b[39;00m \u001b[38;5;21;01merr\u001b[39;00m\n\u001b[1;32m   3624\u001b[0m \u001b[38;5;28;01mexcept\u001b[39;00m \u001b[38;5;167;01mTypeError\u001b[39;00m:\n\u001b[1;32m   3625\u001b[0m     \u001b[38;5;66;03m# If we have a listlike key, _check_indexing_error will raise\u001b[39;00m\n\u001b[1;32m   3626\u001b[0m     \u001b[38;5;66;03m#  InvalidIndexError. Otherwise we fall through and re-raise\u001b[39;00m\n\u001b[1;32m   3627\u001b[0m     \u001b[38;5;66;03m#  the TypeError.\u001b[39;00m\n\u001b[1;32m   3628\u001b[0m     \u001b[38;5;28mself\u001b[39m\u001b[38;5;241m.\u001b[39m_check_indexing_error(key)\n",
      "\u001b[0;31mKeyError\u001b[0m: 'name'"
     ]
    }
   ],
   "source": [
    "add_to_website_json(df_places, './savedPlaces.json')"
   ]
  },
  {
   "cell_type": "code",
   "execution_count": null,
   "id": "06be86f4",
   "metadata": {},
   "outputs": [],
   "source": []
  }
 ],
 "metadata": {
  "kernelspec": {
   "display_name": "Python 3 (ipykernel)",
   "language": "python",
   "name": "python3"
  },
  "language_info": {
   "codemirror_mode": {
    "name": "ipython",
    "version": 3
   },
   "file_extension": ".py",
   "mimetype": "text/x-python",
   "name": "python",
   "nbconvert_exporter": "python",
   "pygments_lexer": "ipython3",
   "version": "3.9.7"
  }
 },
 "nbformat": 4,
 "nbformat_minor": 5
}
