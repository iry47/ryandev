{
 "cells": [
  {
   "cell_type": "code",
   "execution_count": 1,
   "id": "7d8d5863",
   "metadata": {},
   "outputs": [],
   "source": [
    "import pandas as pd\n",
    "import json\n",
    "import os\n",
    "import shutil\n",
    "from datetime import datetime\n",
    "import websocket\n",
    "websocket._logging._logger.level = -99"
   ]
  },
  {
   "cell_type": "code",
   "execution_count": 2,
   "id": "409f0584",
   "metadata": {},
   "outputs": [],
   "source": [
    "savedPlaces_path = './savedPlaces.json'"
   ]
  },
  {
   "cell_type": "code",
   "execution_count": 3,
   "id": "12200d76",
   "metadata": {},
   "outputs": [],
   "source": [
    "def backup_file(file):\n",
    "    source = './'+file+'.json'\n",
    "    destination = './backups/'+file+'/'+file+'_' + datetime.today().strftime('%Y_%m_%d_%H%M') + '.json'\n",
    "    shutil.copy(source, destination)"
   ]
  },
  {
   "cell_type": "markdown",
   "id": "fb1aa645",
   "metadata": {},
   "source": [
    "### Google maps scraper\n",
    "Source: # https://scrapfly.io/blog/how-to-scrape-google-maps/"
   ]
  },
  {
   "cell_type": "code",
   "execution_count": 4,
   "id": "f8abb64b",
   "metadata": {},
   "outputs": [],
   "source": [
    "from parsel import Selector\n",
    "from playwright.async_api import async_playwright\n",
    "from playwright_stealth import stealth_async\n",
    "\n",
    "script = \"\"\"\n",
    "function waitCss(selector, n=1, require=false, timeout=5000) {\n",
    "  console.log(selector, n, require, timeout);\n",
    "  var start = Date.now();\n",
    "  while (Date.now() - start < timeout){\n",
    "  \tif (document.querySelectorAll(selector).length >= n){\n",
    "      return document.querySelectorAll(selector);\n",
    "    }\n",
    "  }\n",
    "  if (require){\n",
    "      throw new Error(`selector \"${selector}\" timed out in ${Date.now() - start} ms`);\n",
    "  } else {\n",
    "      return document.querySelectorAll(selector);\n",
    "  }\n",
    "}\n",
    "\n",
    "var results = waitCss(\"div[role*=article]>a\", n=10, require=false);\n",
    "return Array.from(results).map((el) => el.getAttribute(\"href\"))\n",
    "\"\"\"\n",
    "places_file = open(savedPlaces_path)\n",
    "markers = json.load(places_file)\n",
    "\n",
    "async def search(query, page):\n",
    "    url = f\"https://www.google.com/maps/search/{query.replace(' ', '+')}/?hl=en\"\n",
    "    await page.goto(url)\n",
    "    urls = await page.evaluate(\"() => {\" + script + \"}\")\n",
    "    return urls or [url]\n",
    "\n",
    "def parse_place(selector):\n",
    "    \"\"\"parse Google Maps place\"\"\"\n",
    "\n",
    "    def aria_with_label(label):\n",
    "        \"\"\"gets aria element as is\"\"\"\n",
    "        return selector.css(f\"*[aria-label*='{label}']::attr(aria-label)\")\n",
    "\n",
    "    def aria_no_label(label):\n",
    "        \"\"\"gets aria element as text with label stripped off\"\"\"\n",
    "        text = aria_with_label(label).get(\"\")\n",
    "        return text.split(label, 1)[1].strip()\n",
    "\n",
    "    result = {\n",
    "        \"category\": selector.css(\"button[jsaction='pane.rating.category']::text\").get(),\n",
    "        # most of the data can be extracted through accessibility labels:\n",
    "        \"website\": aria_no_label(\"Website: \"),\n",
    "        \"phone\": aria_no_label(\"Phone: \"),\n",
    "        \"review_count\": aria_with_label(\" reviews\").get(),\n",
    "        # to extract star numbers from text we can use regex pattern for numbers: \"\\d+\"\n",
    "        \"stars\": aria_with_label(\" stars\").re(\"\\d+.*\\d+\")[0],\n",
    "        \"5_stars\": aria_with_label(\"5 stars\").re(r\"(\\d+) review\")[0],\n",
    "        \"4_stars\": aria_with_label(\"4 stars\").re(r\"(\\d+) review\")[0],\n",
    "        \"3_stars\": aria_with_label(\"3 stars\").re(r\"(\\d+) review\")[0],\n",
    "        \"2_stars\": aria_with_label(\"2 stars\").re(r\"(\\d+) review\")[0],\n",
    "        \"1_stars\": aria_with_label(\"1 stars\").re(r\"(\\d+) review\")[0],\n",
    "    }\n",
    "    return result\n",
    "\n",
    "\n",
    "async def scrape_google_maps():\n",
    "    '''\n",
    "    Scrape google maps\n",
    "    :return Dataframe of places\n",
    "    '''\n",
    "    places = []\n",
    "    index_error = []\n",
    "    type_error = []\n",
    "    other_error = []\n",
    "    async with async_playwright() as p:\n",
    "        browser = await p.chromium.launch(headless=False)\n",
    "        page = await browser.new_page()\n",
    "        for marker in markers['features']:\n",
    "            try:\n",
    "                urls = await search(marker['properties']['Title'] +' '+ marker['properties']['Location']['Address'], page=page)\n",
    "                await stealth_async(page)\n",
    "                await page.goto(urls[0])\n",
    "                await page.wait_for_selector(\"button[jsaction='pane.rating.category']\")\n",
    "                content = await page.content()\n",
    "                parsed_info = parse_place(Selector(text=content.encode('utf-8', 'ignore').decode()))\n",
    "\n",
    "                place = {\n",
    "                    \"name\": marker['properties']['Title'],\n",
    "                    \"category\": parsed_info['category'],\n",
    "                    \"google_link\": marker['properties']['Google Maps URL'],\n",
    "                    \"phone\": parsed_info['phone'],\n",
    "                    \"website\": parsed_info['website']\n",
    "\n",
    "                }\n",
    "                places.append(place)\n",
    "\n",
    "            except IndexError:\n",
    "                index_error.append(marker['properties']['Title'])\n",
    "                continue\n",
    "            except TypeError:\n",
    "                type_error.append(marker['properties']['Title'])\n",
    "                continue\n",
    "            except:\n",
    "                other_error.append(marker['properties']['Title'])\n",
    "                continue\n",
    "            \n",
    "#             if len(places) == 3:\n",
    "#                 return pd.DataFrame.from_records(places)\n",
    "            \n",
    "    backup_file('parsed_places')\n",
    "    df_places = pd.DataFrame.from_records(places)\n",
    "    df_places.to_json('parsed_places.json')\n",
    "    print(f\"Index Errors:{len(index_error)} Type Errors:{len(type_error)} Other Errors:{len(other_error)}\")\n",
    "    return df_places\n",
    "\n"
   ]
  },
  {
   "cell_type": "code",
   "execution_count": 5,
   "id": "a8f4113b",
   "metadata": {},
   "outputs": [
    {
     "name": "stdout",
     "output_type": "stream",
     "text": [
      "Index Errors:40 Type Errors:0 Other Errors:777\n",
      "Total places scraped from google:29\n"
     ]
    }
   ],
   "source": [
    "df_places = await scrape_google_maps()\n",
    "# df_places = pd.read_json('./')\n",
    "print(f\"Total places scraped from google:{len(df_places)}\")"
   ]
  },
  {
   "cell_type": "code",
   "execution_count": 6,
   "id": "8a0a42fc",
   "metadata": {},
   "outputs": [
    {
     "name": "stdout",
     "output_type": "stream",
     "text": [
      "All my markers from google:846\n"
     ]
    }
   ],
   "source": [
    "print(f\"All my markers from google:{len(markers['features'])}\")"
   ]
  },
  {
   "cell_type": "code",
   "execution_count": 7,
   "id": "66157b88",
   "metadata": {},
   "outputs": [],
   "source": [
    "# print(f\"Index Errors:{len(index_error)} Type Errors:{len(type_error)} Other Errors:{len(other_error)}\")"
   ]
  },
  {
   "cell_type": "markdown",
   "id": "f2bb93ff",
   "metadata": {},
   "source": [
    "## Data Engineering\n",
    "The following will set up the data to be used by the frontend"
   ]
  },
  {
   "cell_type": "code",
   "execution_count": 8,
   "id": "0d79df20",
   "metadata": {},
   "outputs": [
    {
     "data": {
      "text/html": [
       "<div>\n",
       "<style scoped>\n",
       "    .dataframe tbody tr th:only-of-type {\n",
       "        vertical-align: middle;\n",
       "    }\n",
       "\n",
       "    .dataframe tbody tr th {\n",
       "        vertical-align: top;\n",
       "    }\n",
       "\n",
       "    .dataframe thead th {\n",
       "        text-align: right;\n",
       "    }\n",
       "</style>\n",
       "<table border=\"1\" class=\"dataframe\">\n",
       "  <thead>\n",
       "    <tr style=\"text-align: right;\">\n",
       "      <th></th>\n",
       "      <th>name</th>\n",
       "      <th>category</th>\n",
       "      <th>google_link</th>\n",
       "      <th>phone</th>\n",
       "      <th>website</th>\n",
       "    </tr>\n",
       "  </thead>\n",
       "  <tbody>\n",
       "    <tr>\n",
       "      <th>0</th>\n",
       "      <td>Batu Caves</td>\n",
       "      <td>Shrine</td>\n",
       "      <td>http://maps.google.com/?cid=17491958630477438713</td>\n",
       "      <td>03-6189 6284</td>\n",
       "      <td>tourism.gov.my</td>\n",
       "    </tr>\n",
       "    <tr>\n",
       "      <th>1</th>\n",
       "      <td>Kolam Air Panas Kuala Kubu Baru</td>\n",
       "      <td>Nature preserve</td>\n",
       "      <td>http://maps.google.com/?cid=17100438188293160934</td>\n",
       "      <td>016-673 4383</td>\n",
       "      <td>m.facebook.com</td>\n",
       "    </tr>\n",
       "    <tr>\n",
       "      <th>2</th>\n",
       "      <td>Nagu Curry House (Indian)</td>\n",
       "      <td>Indian restaurant</td>\n",
       "      <td>http://maps.google.com/?cid=10139427453734398584</td>\n",
       "      <td>03-6064 1154</td>\n",
       "      <td>m.facebook.com</td>\n",
       "    </tr>\n",
       "    <tr>\n",
       "      <th>3</th>\n",
       "      <td>Jemari Srikandi Spa</td>\n",
       "      <td>Spa</td>\n",
       "      <td>http://maps.google.com/?cid=16549140982370725794</td>\n",
       "      <td>019-281 2664</td>\n",
       "      <td>facebook.com</td>\n",
       "    </tr>\n",
       "    <tr>\n",
       "      <th>4</th>\n",
       "      <td>Cocoya_Malaysia @kampar coconut shake</td>\n",
       "      <td>Cafe</td>\n",
       "      <td>http://maps.google.com/?cid=9977942180261847222</td>\n",
       "      <td>010-268 8573</td>\n",
       "      <td>facebook.com</td>\n",
       "    </tr>\n",
       "  </tbody>\n",
       "</table>\n",
       "</div>"
      ],
      "text/plain": [
       "                                    name           category  \\\n",
       "0                             Batu Caves             Shrine   \n",
       "1        Kolam Air Panas Kuala Kubu Baru    Nature preserve   \n",
       "2              Nagu Curry House (Indian)  Indian restaurant   \n",
       "3                    Jemari Srikandi Spa                Spa   \n",
       "4  Cocoya_Malaysia @kampar coconut shake               Cafe   \n",
       "\n",
       "                                        google_link         phone  \\\n",
       "0  http://maps.google.com/?cid=17491958630477438713  03-6189 6284   \n",
       "1  http://maps.google.com/?cid=17100438188293160934  016-673 4383   \n",
       "2  http://maps.google.com/?cid=10139427453734398584  03-6064 1154   \n",
       "3  http://maps.google.com/?cid=16549140982370725794  019-281 2664   \n",
       "4   http://maps.google.com/?cid=9977942180261847222  010-268 8573   \n",
       "\n",
       "          website  \n",
       "0  tourism.gov.my  \n",
       "1  m.facebook.com  \n",
       "2  m.facebook.com  \n",
       "3    facebook.com  \n",
       "4    facebook.com  "
      ]
     },
     "execution_count": 8,
     "metadata": {},
     "output_type": "execute_result"
    }
   ],
   "source": [
    "df_places.head()"
   ]
  },
  {
   "cell_type": "code",
   "execution_count": 9,
   "id": "660dae98",
   "metadata": {},
   "outputs": [],
   "source": [
    "food_category = ['restaurant', 'bistro', 'vegan', 'vegetarian']\n",
    "cafe_category = ['cafe', 'coffee', 'bar', 'pub']\n",
    "hostel_category = ['hostel', 'hotel', 'bed', 'guest']\n",
    "market_category = ['market', 'supermarket', 'grocery', 'fruit', 'vegetable']\n",
    "money_category = ['bank', 'atm']\n",
    "tourism_category = ['tourism', 'museum', 'church', 'cathedral', 'school']\n",
    "travel_category = ['bus', 'station', 'train', 'boat']\n",
    "outdoors_category = ['park', 'lake', 'river', 'waterfall', 'activity', 'gym', 'beach', 'mountain']\n",
    "other_category = []\n",
    "# TODO: re-scrap data and compare category guesses with list of unique categories from google\n",
    "\n",
    "# places = open(places_path)"
   ]
  },
  {
   "cell_type": "code",
   "execution_count": 10,
   "id": "1652c3f9",
   "metadata": {},
   "outputs": [
    {
     "name": "stdout",
     "output_type": "stream",
     "text": [
      "Unique categories from google 22\n"
     ]
    }
   ],
   "source": [
    "print(f\"Unique categories from google {len(df_places.category.unique())}\")"
   ]
  },
  {
   "cell_type": "code",
   "execution_count": 11,
   "id": "ce155163",
   "metadata": {},
   "outputs": [
    {
     "data": {
      "text/plain": [
       "array(['Shrine', 'Nature preserve', 'Indian restaurant', 'Spa', 'Cafe',\n",
       "       'Rafting', 'Bakery', 'Tourist attraction', 'Organic shop', 'Park',\n",
       "       'Vegetarian cafe and deli', 'Research foundation', 'State park',\n",
       "       'South Indian restaurant', 'Vegan restaurant', 'Buddhist temple',\n",
       "       '餐廳', 'Rock climbing gym', 'Bicycle Shop', 'Farm',\n",
       "       'Vegetarian restaurant', 'Resort hotel'], dtype=object)"
      ]
     },
     "execution_count": 11,
     "metadata": {},
     "output_type": "execute_result"
    }
   ],
   "source": [
    "df_places['category'].unique()"
   ]
  },
  {
   "cell_type": "code",
   "execution_count": 12,
   "id": "913a0ba2",
   "metadata": {},
   "outputs": [],
   "source": [
    "def add_markers(dataframe):\n",
    "    '''\n",
    "    Iter through rows of places and add marker icon to place\n",
    "    '''\n",
    "    df = dataframe.copy()\n",
    "    df['marker'] = ''\n",
    "    for ind, place in dataframe.iterrows():\n",
    "        category = 'other'\n",
    "        place_category = place.category.lower()\n",
    "        place_name = place['name'].lower()\n",
    "        if any(cat in place_category or cat in place_name for cat in food_category):\n",
    "            category = 'food'\n",
    "        elif any(cat in place_category or cat in place_name for cat in cafe_category):\n",
    "            category = 'cafe'\n",
    "        elif any(cat in place_category or cat in place_name for cat in money_category):\n",
    "            category = 'money'\n",
    "        elif any(cat in place_category or cat in place_name for cat in market_category):\n",
    "            category = 'market'\n",
    "        elif any(cat in place_category or cat in place_name for cat in travel_category):\n",
    "            category = 'travel'\n",
    "        elif any(cat in place_category or cat in place_name for cat in hostel_category):\n",
    "            category = 'hostel'\n",
    "        elif any(cat in place_category or cat in place_name for cat in tourism_category):\n",
    "            category = 'tourism'\n",
    "        elif any(cat in place_category or cat in place_name for cat in outdoors_category):\n",
    "            category = 'outdoors'\n",
    "        df.loc[df_places['name'] == place['name'], ['marker']] = category\n",
    "    return df"
   ]
  },
  {
   "cell_type": "markdown",
   "id": "8c100a5f",
   "metadata": {},
   "source": [
    "## Data API Merge\n",
    "Add the webscraped data to the json file used by ryandev"
   ]
  },
  {
   "cell_type": "code",
   "execution_count": 13,
   "id": "7b6d80aa",
   "metadata": {},
   "outputs": [
    {
     "name": "stdout",
     "output_type": "stream",
     "text": [
      "Total places to merge: 29\n"
     ]
    },
    {
     "data": {
      "text/html": [
       "<div>\n",
       "<style scoped>\n",
       "    .dataframe tbody tr th:only-of-type {\n",
       "        vertical-align: middle;\n",
       "    }\n",
       "\n",
       "    .dataframe tbody tr th {\n",
       "        vertical-align: top;\n",
       "    }\n",
       "\n",
       "    .dataframe thead th {\n",
       "        text-align: right;\n",
       "    }\n",
       "</style>\n",
       "<table border=\"1\" class=\"dataframe\">\n",
       "  <thead>\n",
       "    <tr style=\"text-align: right;\">\n",
       "      <th></th>\n",
       "      <th>name</th>\n",
       "      <th>category</th>\n",
       "      <th>google_link</th>\n",
       "      <th>phone</th>\n",
       "      <th>website</th>\n",
       "      <th>marker</th>\n",
       "    </tr>\n",
       "  </thead>\n",
       "  <tbody>\n",
       "    <tr>\n",
       "      <th>0</th>\n",
       "      <td>Batu Caves</td>\n",
       "      <td>Shrine</td>\n",
       "      <td>http://maps.google.com/?cid=17491958630477438713</td>\n",
       "      <td>03-6189 6284</td>\n",
       "      <td>tourism.gov.my</td>\n",
       "      <td>other</td>\n",
       "    </tr>\n",
       "    <tr>\n",
       "      <th>1</th>\n",
       "      <td>Kolam Air Panas Kuala Kubu Baru</td>\n",
       "      <td>Nature preserve</td>\n",
       "      <td>http://maps.google.com/?cid=17100438188293160934</td>\n",
       "      <td>016-673 4383</td>\n",
       "      <td>m.facebook.com</td>\n",
       "      <td>cafe</td>\n",
       "    </tr>\n",
       "    <tr>\n",
       "      <th>2</th>\n",
       "      <td>Nagu Curry House (Indian)</td>\n",
       "      <td>Indian restaurant</td>\n",
       "      <td>http://maps.google.com/?cid=10139427453734398584</td>\n",
       "      <td>03-6064 1154</td>\n",
       "      <td>m.facebook.com</td>\n",
       "      <td>food</td>\n",
       "    </tr>\n",
       "    <tr>\n",
       "      <th>3</th>\n",
       "      <td>Jemari Srikandi Spa</td>\n",
       "      <td>Spa</td>\n",
       "      <td>http://maps.google.com/?cid=16549140982370725794</td>\n",
       "      <td>019-281 2664</td>\n",
       "      <td>facebook.com</td>\n",
       "      <td>other</td>\n",
       "    </tr>\n",
       "    <tr>\n",
       "      <th>4</th>\n",
       "      <td>Cocoya_Malaysia @kampar coconut shake</td>\n",
       "      <td>Cafe</td>\n",
       "      <td>http://maps.google.com/?cid=9977942180261847222</td>\n",
       "      <td>010-268 8573</td>\n",
       "      <td>facebook.com</td>\n",
       "      <td>cafe</td>\n",
       "    </tr>\n",
       "  </tbody>\n",
       "</table>\n",
       "</div>"
      ],
      "text/plain": [
       "                                    name           category  \\\n",
       "0                             Batu Caves             Shrine   \n",
       "1        Kolam Air Panas Kuala Kubu Baru    Nature preserve   \n",
       "2              Nagu Curry House (Indian)  Indian restaurant   \n",
       "3                    Jemari Srikandi Spa                Spa   \n",
       "4  Cocoya_Malaysia @kampar coconut shake               Cafe   \n",
       "\n",
       "                                        google_link         phone  \\\n",
       "0  http://maps.google.com/?cid=17491958630477438713  03-6189 6284   \n",
       "1  http://maps.google.com/?cid=17100438188293160934  016-673 4383   \n",
       "2  http://maps.google.com/?cid=10139427453734398584  03-6064 1154   \n",
       "3  http://maps.google.com/?cid=16549140982370725794  019-281 2664   \n",
       "4   http://maps.google.com/?cid=9977942180261847222  010-268 8573   \n",
       "\n",
       "          website marker  \n",
       "0  tourism.gov.my  other  \n",
       "1  m.facebook.com   cafe  \n",
       "2  m.facebook.com   food  \n",
       "3    facebook.com  other  \n",
       "4    facebook.com   cafe  "
      ]
     },
     "execution_count": 13,
     "metadata": {},
     "output_type": "execute_result"
    }
   ],
   "source": [
    "df_to_merge = add_markers(df_places)\n",
    "print(f\"Total places to merge: {len(df_to_merge['name'])}\")\n",
    "df_to_merge.head()"
   ]
  },
  {
   "cell_type": "code",
   "execution_count": 14,
   "id": "5c30f19f",
   "metadata": {},
   "outputs": [],
   "source": [
    "def add_to_website_json(dataframe, json_file_path):\n",
    "    categories_added = 0\n",
    "    categories_ctn = 0\n",
    "    with open(json_file_path, 'r') as file:\n",
    "        places = json.load(file)\n",
    "        print(len(places['features']))\n",
    "        print(len(dataframe.name))\n",
    "        for place in places['features']:\n",
    "            place['properties']['marker'] = ''\n",
    "            if dataframe['name'].eq(place['properties']['Title']).any():\n",
    "                place['properties']['marker'] = dataframe.loc[dataframe['name'] == place['properties']['Title'],['marker']].values[0][0]\n",
    "            else:\n",
    "                place['properties']['marker'] = 'other'\n",
    "                \n",
    "            if 'category' not in place:\n",
    "                if place['properties']['Title'] in dataframe['name'].values:\n",
    "                    place['properties']['category'] = dataframe.loc[dataframe['name'] == place['properties']['Title'],['category']].values[0][0]\n",
    "                    categories_added = categories_added + 1 \n",
    "                    categories_ctn = categories_ctn + 1\n",
    "            else:\n",
    "                categories_ctn = categories_ctn + 1\n",
    "    backup_file('savedPlaces')\n",
    "    with open(json_file_path, 'w') as file:\n",
    "        json.dump(places, file) # will overwrite page\n",
    "    \n",
    "    return f\"Categories added: {categories_added} Total Categories: {categories_ctn}\"\n"
   ]
  },
  {
   "cell_type": "code",
   "execution_count": 15,
   "id": "5c4ea485",
   "metadata": {},
   "outputs": [
    {
     "name": "stdout",
     "output_type": "stream",
     "text": [
      "846\n",
      "29\n"
     ]
    },
    {
     "data": {
      "text/plain": [
       "'Categories added: 29 Total Categories: 29'"
      ]
     },
     "execution_count": 15,
     "metadata": {},
     "output_type": "execute_result"
    }
   ],
   "source": [
    "add_to_website_json(df_to_merge, savedPlaces_path)"
   ]
  },
  {
   "cell_type": "code",
   "execution_count": null,
   "id": "4b92b4de",
   "metadata": {},
   "outputs": [],
   "source": []
  },
  {
   "cell_type": "code",
   "execution_count": null,
   "id": "877dc3cb",
   "metadata": {},
   "outputs": [],
   "source": []
  }
 ],
 "metadata": {
  "kernelspec": {
   "display_name": "Python 3",
   "language": "python",
   "name": "python3"
  },
  "language_info": {
   "codemirror_mode": {
    "name": "ipython",
    "version": 3
   },
   "file_extension": ".py",
   "mimetype": "text/x-python",
   "name": "python",
   "nbconvert_exporter": "python",
   "pygments_lexer": "ipython3",
   "version": "3.9.7"
  },
  "vscode": {
   "interpreter": {
    "hash": "0650c128f2727895e29b501543eab40279d2666087241a7ccad58637a781ecec"
   }
  }
 },
 "nbformat": 4,
 "nbformat_minor": 5
}
