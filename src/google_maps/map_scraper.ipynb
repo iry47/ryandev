{
 "cells": [
  {
   "cell_type": "code",
   "execution_count": 28,
   "id": "7d8d5863",
   "metadata": {},
   "outputs": [],
   "source": [
    "import pandas as pd\n",
    "import json\n",
    "import os\n",
    "import shutil\n",
    "from datetime import datetime\n",
    "import websocket\n",
    "websocket._logging._logger.level = -99"
   ]
  },
  {
   "cell_type": "code",
   "execution_count": 2,
   "id": "409f0584",
   "metadata": {},
   "outputs": [],
   "source": [
    "savedPlaces_path = './savedPlaces.json'"
   ]
  },
  {
   "cell_type": "code",
   "execution_count": 3,
   "id": "12200d76",
   "metadata": {},
   "outputs": [],
   "source": [
    "def backup_file(file):\n",
    "    source = './'+file+'.json'\n",
    "    destination = './backups/'+file+'/'+file+'_' + datetime.today().strftime('%Y_%m_%d_%H%M') + '.json'\n",
    "    shutil.copy(source, destination)"
   ]
  },
  {
   "cell_type": "markdown",
   "id": "fb1aa645",
   "metadata": {},
   "source": [
    "### Google maps scraper\n",
    "Source: # https://scrapfly.io/blog/how-to-scrape-google-maps/"
   ]
  },
  {
   "cell_type": "code",
   "execution_count": 56,
   "id": "f8abb64b",
   "metadata": {},
   "outputs": [],
   "source": [
    "from parsel import Selector\n",
    "from playwright.async_api import async_playwright\n",
    "from playwright_stealth import stealth_async\n",
    "\n",
    "script = \"\"\"\n",
    "function waitCss(selector, n=1, require=false, timeout=5000) {\n",
    "  console.log(selector, n, require, timeout);\n",
    "  var start = Date.now();\n",
    "  while (Date.now() - start < timeout){\n",
    "  \tif (document.querySelectorAll(selector).length >= n){\n",
    "      return document.querySelectorAll(selector);\n",
    "    }\n",
    "  }\n",
    "  if (require){\n",
    "      throw new Error(`selector \"${selector}\" timed out in ${Date.now() - start} ms`);\n",
    "  } else {\n",
    "      return document.querySelectorAll(selector);\n",
    "  }\n",
    "}\n",
    "\n",
    "var results = waitCss(\"div[role*=article]>a\", n=10, require=false);\n",
    "return Array.from(results).map((el) => el.getAttribute(\"href\"))\n",
    "\"\"\"\n",
    "places_file = open(places_path)\n",
    "markers = json.load(places_file)\n",
    "\n",
    "async def search(query, page):\n",
    "    url = f\"https://www.google.com/maps/search/{query.replace(' ', '+')}/?hl=en\"\n",
    "    await page.goto(url)\n",
    "    urls = await page.evaluate(\"() => {\" + script + \"}\")\n",
    "    return urls or [url]\n",
    "\n",
    "def parse_place(selector):\n",
    "    \"\"\"parse Google Maps place\"\"\"\n",
    "\n",
    "    def aria_with_label(label):\n",
    "        \"\"\"gets aria element as is\"\"\"\n",
    "        return selector.css(f\"*[aria-label*='{label}']::attr(aria-label)\")\n",
    "\n",
    "    def aria_no_label(label):\n",
    "        \"\"\"gets aria element as text with label stripped off\"\"\"\n",
    "        text = aria_with_label(label).get(\"\")\n",
    "        return text.split(label, 1)[1].strip()\n",
    "\n",
    "    result = {\n",
    "        \"category\": selector.css(\"button[jsaction='pane.rating.category']::text\").get(),\n",
    "        # most of the data can be extracted through accessibility labels:\n",
    "        \"website\": aria_no_label(\"Website: \"),\n",
    "        \"phone\": aria_no_label(\"Phone: \"),\n",
    "        \"review_count\": aria_with_label(\" reviews\").get(),\n",
    "        # to extract star numbers from text we can use regex pattern for numbers: \"\\d+\"\n",
    "        \"stars\": aria_with_label(\" stars\").re(\"\\d+.*\\d+\")[0],\n",
    "        \"5_stars\": aria_with_label(\"5 stars\").re(r\"(\\d+) review\")[0],\n",
    "        \"4_stars\": aria_with_label(\"4 stars\").re(r\"(\\d+) review\")[0],\n",
    "        \"3_stars\": aria_with_label(\"3 stars\").re(r\"(\\d+) review\")[0],\n",
    "        \"2_stars\": aria_with_label(\"2 stars\").re(r\"(\\d+) review\")[0],\n",
    "        \"1_stars\": aria_with_label(\"1 stars\").re(r\"(\\d+) review\")[0],\n",
    "    }\n",
    "    return result\n",
    "\n",
    "\n",
    "async def scrape_google_maps():\n",
    "    '''\n",
    "    Scrape google maps\n",
    "    :return Dataframe of places\n",
    "    '''\n",
    "    places = []\n",
    "    index_error = []\n",
    "    type_error = []\n",
    "    other_error = []\n",
    "    async with async_playwright() as p:\n",
    "        browser = await p.chromium.launch(headless=False)\n",
    "        page = await browser.new_page()\n",
    "        for marker in markers['features']:\n",
    "            try:\n",
    "                urls = await search(marker['properties']['Title'] +' '+ marker['properties']['Location']['Address'], page=page)\n",
    "                await stealth_async(page)\n",
    "                await page.goto(urls[0])\n",
    "                await page.wait_for_selector(\"button[jsaction='pane.rating.category']\")\n",
    "                content = await page.content()\n",
    "                parsed_info = parse_place(Selector(text=content.encode('utf-8', 'ignore').decode()))\n",
    "\n",
    "                place = {\n",
    "                    \"name\": marker['properties']['Title'],\n",
    "                    \"category\": parsed_info['category'],\n",
    "                    \"google_link\": marker['properties']['Google Maps URL'],\n",
    "                    \"phone\": parsed_info['phone'],\n",
    "                    \"website\": parsed_info['website']\n",
    "\n",
    "                }\n",
    "                places.append(place)\n",
    "\n",
    "            except IndexError:\n",
    "                index_error.append(marker['properties']['Title'])\n",
    "                continue\n",
    "            except TypeError:\n",
    "                type_error.append(marker['properties']['Title'])\n",
    "                continue\n",
    "            except:\n",
    "                other_error.append(marker['properties']['Title'])\n",
    "                continue\n",
    "            \n",
    "#             if len(places) == 3:\n",
    "#                 return pd.DataFrame.from_records(places)\n",
    "            \n",
    "    backup_file('parsed_places')\n",
    "    df_places = pd.DataFrame.from_records(places)\n",
    "    df_places.to_json('parsed_places.json')\n",
    "    print(f\"Index Errors:{len(index_error)} Type Errors:{len(type_error)} Other Errors:{len(other_error)}\")\n",
    "    return df_places\n",
    "\n"
   ]
  },
  {
   "cell_type": "code",
   "execution_count": 57,
   "id": "a8f4113b",
   "metadata": {},
   "outputs": [
    {
     "name": "stdout",
     "output_type": "stream",
     "text": [
      "Index Errors:161 Type Errors:78 Other Errors:268\n",
      "Total places scraped from google:234\n"
     ]
    }
   ],
   "source": [
    "df_places = await scrape_google_maps()\n",
    "# df_places = pd.read_json('./')\n",
    "print(f\"Total places scraped from google:{len(df_places)}\")"
   ]
  },
  {
   "cell_type": "code",
   "execution_count": 6,
   "id": "8a0a42fc",
   "metadata": {},
   "outputs": [
    {
     "name": "stdout",
     "output_type": "stream",
     "text": [
      "All my markers from google:741\n"
     ]
    }
   ],
   "source": [
    "print(f\"All my markers from google:{len(markers['features'])}\")"
   ]
  },
  {
   "cell_type": "code",
   "execution_count": 8,
   "id": "66157b88",
   "metadata": {},
   "outputs": [],
   "source": [
    "# print(f\"Index Errors:{len(index_error)} Type Errors:{len(type_error)} Other Errors:{len(other_error)}\")"
   ]
  },
  {
   "cell_type": "markdown",
   "id": "f2bb93ff",
   "metadata": {},
   "source": [
    "## Data Engineering\n",
    "The following will set up the data to be used by the frontend"
   ]
  },
  {
   "cell_type": "code",
   "execution_count": 120,
   "id": "660dae98",
   "metadata": {},
   "outputs": [],
   "source": [
    "food_category = ['restaurant', 'bistro']\n",
    "cafe_category = ['cafe', 'coffee', 'bar', 'pub']\n",
    "hostel_category = ['hostel', 'hotel', 'bed']\n",
    "market_category = ['market', 'supermarket', 'grocery', 'fruit', 'vegetable']\n",
    "money_category = ['bank', 'atm']\n",
    "tourism_category = ['tourism', 'museum', 'church', 'cathedral', 'school']\n",
    "travel_category = ['bus', 'station', 'train', 'boat']\n",
    "outdoors_category = ['park', 'lake', 'river', 'waterfall', 'activity', 'gym', 'beach', 'mountain']\n",
    "other_category = []\n",
    "# TODO: re-scrap data and compare category guesses with list of unique categories from google\n",
    "\n",
    "# places = open(places_path)"
   ]
  },
  {
   "cell_type": "code",
   "execution_count": 77,
   "id": "1652c3f9",
   "metadata": {},
   "outputs": [
    {
     "name": "stdout",
     "output_type": "stream",
     "text": [
      "Unique categories from google 128\n"
     ]
    }
   ],
   "source": [
    "print(f\"Unique categories from google {len(df_places.category.unique())}\")"
   ]
  },
  {
   "cell_type": "code",
   "execution_count": 119,
   "id": "ce155163",
   "metadata": {},
   "outputs": [
    {
     "data": {
      "text/plain": [
       "array(['Rock climbing gym', 'Tattoo shop', 'Cooking school',\n",
       "       'Thai restaurant', 'Restaurant', 'Vegan restaurant',\n",
       "       'Korean restaurant', 'Massage spa', 'ร้านกาแฟ', 'Cafe',\n",
       "       'Shopping mall', 'Technical school', 'Massage therapist',\n",
       "       'Guest house', 'Bicycle store', 'Bank', 'ภัตตาคารอาหารเจ',\n",
       "       'Hamburger restaurant', 'Vegetarian restaurant',\n",
       "       'ภัตตาคารอาหารมังสวิรัติ', 'Night club', 'Art center', 'Tea store',\n",
       "       'Podiatrist', 'Concert hall', 'Yoga studio', 'Ice cream shop',\n",
       "       'Bar', 'Bar & grill', 'Modern Indian restaurant', 'Day spa',\n",
       "       'Second hand store', 'Naturopathic practitioner',\n",
       "       'Burrito restaurant', 'Canadian restaurant', 'Supermarket',\n",
       "       'Cannabis store', 'Organic restaurant', 'Sports complex',\n",
       "       'Creole restaurant', 'School', 'Chocolate shop', 'Foundation',\n",
       "       'Ramen restaurant', 'Alsace restaurant', 'Thermal baths',\n",
       "       'French restaurant', 'Breakfast restaurant', 'Asian restaurant',\n",
       "       'Persian restaurant', 'Italian restaurant', 'Buddhist temple',\n",
       "       'Beer hall', 'Movie theater', 'Park', 'Cocktail bar',\n",
       "       'Indonesian restaurant', 'Hammam', 'Ethnographic museum',\n",
       "       'Tapas bar', 'Patisserie', 'Dance school', 'Uzbeki restaurant',\n",
       "       'Computer training school', 'Tunisian restaurant', 'Scenic spot',\n",
       "       'Syrian restaurant', 'Pub', 'Georgian restaurant', 'Lounge',\n",
       "       'Laotian restaurant', 'Castle', 'Cake shop', 'Historical landmark',\n",
       "       'Tennis club', 'Cathedral', 'Toy store', 'Chinese restaurant',\n",
       "       'Coworking space', 'Performing arts theater', 'Tea house',\n",
       "       'Wine bar', 'Brasserie', 'Live music bar', 'Nepalese restaurant',\n",
       "       'Museum', 'Beach', 'Gurudwara', 'Brunch restaurant', 'Winery',\n",
       "       'Modern European restaurant', 'Cultural center',\n",
       "       'Venezuelan restaurant', 'Brewpub', 'Mexican restaurant',\n",
       "       'American restaurant', 'Coffee shop', 'Disco club',\n",
       "       'Tourist attraction', 'Tour agency', 'Campground', 'Snack bar',\n",
       "       'Irish pub', 'Art museum', 'Cafeteria', 'Mountain cabin',\n",
       "       'Book store', 'Pizza restaurant', 'Sandwich shop',\n",
       "       'Exhibition and trade centre', 'Hotel', 'Gastropub', 'Embassy',\n",
       "       'Chapel', \"Men's clothing store\", 'Fast food restaurant', 'Store',\n",
       "       'Spanish restaurant', 'Nature preserve',\n",
       "       'Canoe & kayak tour agency', 'History museum', 'Ski resort',\n",
       "       'Party planner', 'Spa', 'Memorial', 'Science museum',\n",
       "       'Student dormitory', 'National park'], dtype=object)"
      ]
     },
     "execution_count": 119,
     "metadata": {},
     "output_type": "execute_result"
    }
   ],
   "source": [
    "df_places.head()\n",
    "df_places['category'].unique()"
   ]
  },
  {
   "cell_type": "code",
   "execution_count": 123,
   "id": "913a0ba2",
   "metadata": {},
   "outputs": [],
   "source": [
    "def add_markers(dataframe):\n",
    "    '''\n",
    "    Iter through rows of places and add marker icon to place\n",
    "    '''\n",
    "    df = dataframe.copy()\n",
    "    df['marker'] = ''\n",
    "    for ind, place in dataframe.iterrows():\n",
    "        category = 'other'\n",
    "        place_category = place.category.lower()\n",
    "        if any(cat in place_category for cat in food_category):\n",
    "            category = 'food'\n",
    "        elif any(cat in place_category for cat in cafe_category):\n",
    "            category = 'cafe'\n",
    "        elif any(cat in place_category for cat in money_category):\n",
    "            category = 'money'\n",
    "        elif any(cat in place_category for cat in market_category):\n",
    "            category = 'market'\n",
    "        elif any(cat in place_category for cat in travel_category):\n",
    "            category = 'travel'\n",
    "        elif any(cat in place_category for cat in hostel_category):\n",
    "            category = 'hostel'\n",
    "        elif any(cat in place_category for cat in tourism_category):\n",
    "            category = 'tourism'\n",
    "        elif any(cat in place_category for cat in outdoors_category):\n",
    "            category = 'outdoors'\n",
    "        df.loc[df_places['name'] == place['name'], ['marker']] = category\n",
    "    return df"
   ]
  },
  {
   "cell_type": "markdown",
   "id": "8c100a5f",
   "metadata": {},
   "source": [
    "## Data API Merge\n",
    "Add the webscraped data to the json file used by ryandev"
   ]
  },
  {
   "cell_type": "code",
   "execution_count": 124,
   "id": "7b6d80aa",
   "metadata": {},
   "outputs": [
    {
     "data": {
      "text/html": [
       "<div>\n",
       "<style scoped>\n",
       "    .dataframe tbody tr th:only-of-type {\n",
       "        vertical-align: middle;\n",
       "    }\n",
       "\n",
       "    .dataframe tbody tr th {\n",
       "        vertical-align: top;\n",
       "    }\n",
       "\n",
       "    .dataframe thead th {\n",
       "        text-align: right;\n",
       "    }\n",
       "</style>\n",
       "<table border=\"1\" class=\"dataframe\">\n",
       "  <thead>\n",
       "    <tr style=\"text-align: right;\">\n",
       "      <th></th>\n",
       "      <th>name</th>\n",
       "      <th>category</th>\n",
       "      <th>google_link</th>\n",
       "      <th>phone</th>\n",
       "      <th>website</th>\n",
       "      <th>marker</th>\n",
       "    </tr>\n",
       "  </thead>\n",
       "  <tbody>\n",
       "    <tr>\n",
       "      <th>0</th>\n",
       "      <td>REBEL Rock Climbing</td>\n",
       "      <td>Rock climbing gym</td>\n",
       "      <td>http://maps.google.com/?cid=12035162435106131740</td>\n",
       "      <td>076 608 734</td>\n",
       "      <td>rebelrockclimbing.com</td>\n",
       "      <td>outdoors</td>\n",
       "    </tr>\n",
       "    <tr>\n",
       "      <th>1</th>\n",
       "      <td>Tattoo Jane Phuket</td>\n",
       "      <td>Tattoo shop</td>\n",
       "      <td>http://maps.google.com/?cid=15155383640560610830</td>\n",
       "      <td>085 787 4826</td>\n",
       "      <td>janetattoo.com</td>\n",
       "      <td>other</td>\n",
       "    </tr>\n",
       "    <tr>\n",
       "      <th>2</th>\n",
       "      <td>Thai Cooking With Judy</td>\n",
       "      <td>Cooking school</td>\n",
       "      <td>http://maps.google.com/?cid=7946522986749056156</td>\n",
       "      <td>094 591 4991</td>\n",
       "      <td>thaicookingwithjudy.com</td>\n",
       "      <td>tourism</td>\n",
       "    </tr>\n",
       "    <tr>\n",
       "      <th>3</th>\n",
       "      <td>Baan Chalong Nom Jeen Restaurant</td>\n",
       "      <td>Thai restaurant</td>\n",
       "      <td>http://maps.google.com/?cid=10089112666440974626</td>\n",
       "      <td>081 894 9321</td>\n",
       "      <td>facebook.com</td>\n",
       "      <td>food</td>\n",
       "    </tr>\n",
       "    <tr>\n",
       "      <th>4</th>\n",
       "      <td>We Cafe</td>\n",
       "      <td>Restaurant</td>\n",
       "      <td>http://maps.google.com/?cid=13187921842759696037</td>\n",
       "      <td>062 220 8366</td>\n",
       "      <td>wecafephuket.co</td>\n",
       "      <td>food</td>\n",
       "    </tr>\n",
       "  </tbody>\n",
       "</table>\n",
       "</div>"
      ],
      "text/plain": [
       "                               name           category  \\\n",
       "0               REBEL Rock Climbing  Rock climbing gym   \n",
       "1                Tattoo Jane Phuket        Tattoo shop   \n",
       "2            Thai Cooking With Judy     Cooking school   \n",
       "3  Baan Chalong Nom Jeen Restaurant    Thai restaurant   \n",
       "4                           We Cafe         Restaurant   \n",
       "\n",
       "                                        google_link         phone  \\\n",
       "0  http://maps.google.com/?cid=12035162435106131740   076 608 734   \n",
       "1  http://maps.google.com/?cid=15155383640560610830  085 787 4826   \n",
       "2   http://maps.google.com/?cid=7946522986749056156  094 591 4991   \n",
       "3  http://maps.google.com/?cid=10089112666440974626  081 894 9321   \n",
       "4  http://maps.google.com/?cid=13187921842759696037  062 220 8366   \n",
       "\n",
       "                   website    marker  \n",
       "0    rebelrockclimbing.com  outdoors  \n",
       "1           janetattoo.com     other  \n",
       "2  thaicookingwithjudy.com   tourism  \n",
       "3             facebook.com      food  \n",
       "4          wecafephuket.co      food  "
      ]
     },
     "execution_count": 124,
     "metadata": {},
     "output_type": "execute_result"
    }
   ],
   "source": [
    "df_to_merge = add_markers(df_places)\n",
    "df_to_merge.head()"
   ]
  },
  {
   "cell_type": "code",
   "execution_count": 125,
   "id": "5c30f19f",
   "metadata": {},
   "outputs": [],
   "source": [
    "def add_to_website_json(dataframe, json_file_path):\n",
    "    categories_added = 0\n",
    "    categories_ctn = 0\n",
    "    with open(json_file_path, 'r') as file:\n",
    "        places = json.load(file)\n",
    "        print(len(places['features']))\n",
    "        print(len(dataframe.name))\n",
    "        for place in places['features']:\n",
    "            place['properties']['marker'] = ''\n",
    "            if dataframe['name'].eq(place['properties']['Title']).any():\n",
    "                place['properties']['marker'] = dataframe.loc[dataframe['name'] == place['properties']['Title'],['marker']].values[0][0]\n",
    "            else:\n",
    "                place['properties']['marker'] = 'other'\n",
    "                \n",
    "            if 'category' not in place:\n",
    "                if place['properties']['Title'] in dataframe['name'].values:\n",
    "                    place['properties']['category'] = dataframe.loc[dataframe['name'] == place['properties']['Title'],['category']].values[0][0]\n",
    "                    categories_added = categories_added + 1 \n",
    "                    categories_ctn = categories_ctn + 1\n",
    "            else:\n",
    "                categories_ctn = categories_ctn + 1\n",
    "    backup_file('savedPlaces')\n",
    "    with open(json_file_path, 'w') as file:\n",
    "        json.dump(places, file) # will overwrite page\n",
    "    \n",
    "    return f\"Categories added: {categories_added} Total Categories: {categories_ctn}\"\n"
   ]
  },
  {
   "cell_type": "code",
   "execution_count": 126,
   "id": "5c4ea485",
   "metadata": {},
   "outputs": [
    {
     "name": "stdout",
     "output_type": "stream",
     "text": [
      "741\n",
      "234\n"
     ]
    },
    {
     "data": {
      "text/plain": [
       "'Categories added: 235 Total Categories: 235'"
      ]
     },
     "execution_count": 126,
     "metadata": {},
     "output_type": "execute_result"
    }
   ],
   "source": [
    "add_to_website_json(df_to_merge, places_path)"
   ]
  },
  {
   "cell_type": "code",
   "execution_count": null,
   "id": "4b92b4de",
   "metadata": {},
   "outputs": [],
   "source": []
  }
 ],
 "metadata": {
  "kernelspec": {
   "display_name": "Python 3 (ipykernel)",
   "language": "python",
   "name": "python3"
  },
  "language_info": {
   "codemirror_mode": {
    "name": "ipython",
    "version": 3
   },
   "file_extension": ".py",
   "mimetype": "text/x-python",
   "name": "python",
   "nbconvert_exporter": "python",
   "pygments_lexer": "ipython3",
   "version": "3.9.7"
  }
 },
 "nbformat": 4,
 "nbformat_minor": 5
}
